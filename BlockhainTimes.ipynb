{
 "cells": [
  {
   "cell_type": "code",
   "execution_count": 27,
   "id": "382b8162-78da-4b6b-8aa9-ea2d14190cc7",
   "metadata": {
    "tags": []
   },
   "outputs": [],
   "source": [
    "import pandas as pd"
   ]
  },
  {
   "cell_type": "code",
   "execution_count": 11,
   "id": "ee9af847-7a70-4db3-9789-6683a0d0e4e4",
   "metadata": {
    "tags": []
   },
   "outputs": [],
   "source": [
    "ethereum = pd.read_csv('data/ethereum_block_time.csv.gz', header = None, names = ['block','lag'])"
   ]
  },
  {
   "cell_type": "code",
   "execution_count": 12,
   "id": "c78eb219-938a-4b2a-ab96-a13a772cbcbb",
   "metadata": {
    "tags": []
   },
   "outputs": [
    {
     "data": {
      "text/plain": [
       "min           1.000000\n",
       "max       13013.000000\n",
       "mean         14.478246\n",
       "median       10.000000\n",
       "std          14.104971\n",
       "Name: lag, dtype: float64"
      ]
     },
     "execution_count": 12,
     "metadata": {},
     "output_type": "execute_result"
    }
   ],
   "source": [
    "ethereum[ethereum['block']<15537393]['lag'].agg(['min','max','mean','median','std'])"
   ]
  },
  {
   "cell_type": "code",
   "execution_count": 13,
   "id": "47801a2c-a1a6-40a8-95e3-ff7b86afe016",
   "metadata": {},
   "outputs": [
    {
     "data": {
      "text/plain": [
       "min        6.000000\n",
       "max       96.000000\n",
       "mean      12.113656\n",
       "median    12.000000\n",
       "std        1.192827\n",
       "Name: lag, dtype: float64"
      ]
     },
     "execution_count": 13,
     "metadata": {},
     "output_type": "execute_result"
    }
   ],
   "source": [
    "ethereum[ethereum['block']>=15537393]['lag'].agg(['min','max','mean','median','std'])"
   ]
  },
  {
   "cell_type": "code",
   "execution_count": 65,
   "id": "565fa81d-b96a-4cd5-a633-06e4991cdad4",
   "metadata": {
    "tags": []
   },
   "outputs": [
    {
     "data": {
      "text/plain": [
       "<Axes: title={'center': 'Historgram of block time for Ethereum network before POS fork'}, ylabel='Frequency'>"
      ]
     },
     "execution_count": 65,
     "metadata": {},
     "output_type": "execute_result"
    },
    {
     "data": {
      "image/png": "[encoded data removed]",
      "text/plain": [
       "<Figure size 1500x700 with 1 Axes>"
      ]
     },
     "metadata": {},
     "output_type": "display_data"
    }
   ],
   "source": [
    "ethereum[(ethereum['lag'] < 300) & (ethereum['block']<15537393)]['lag'].plot.hist(bins=100, figsize=(15,7), logy=True, \n",
    "                                                                                  title = 'Historgram of block time for Ethereum network before POS fork')"
   ]
  },
  {
   "cell_type": "code",
   "execution_count": 30,
   "id": "2a68d9a5-b18a-4895-841d-f1594aea94c3",
   "metadata": {
    "tags": []
   },
   "outputs": [
    {
     "data": {
      "text/html": [
       "<div>\n",
       "<style scoped>\n",
       "    .dataframe tbody tr th:only-of-type {\n",
       "        vertical-align: middle;\n",
       "    }\n",
       "\n",
       "    .dataframe tbody tr th {\n",
       "        vertical-align: top;\n",
       "    }\n",
       "\n",
       "    .dataframe thead th {\n",
       "        text-align: right;\n",
       "    }\n",
       "</style>\n",
       "<table border=\"1\" class=\"dataframe\">\n",
       "  <thead>\n",
       "    <tr style=\"text-align: right;\">\n",
       "      <th></th>\n",
       "      <th>block</th>\n",
       "      <th>lag</th>\n",
       "    </tr>\n",
       "  </thead>\n",
       "  <tbody>\n",
       "    <tr>\n",
       "      <th>116520</th>\n",
       "      <td>116522</td>\n",
       "      <td>13013</td>\n",
       "    </tr>\n",
       "    <tr>\n",
       "      <th>4301231</th>\n",
       "      <td>4301233</td>\n",
       "      <td>315</td>\n",
       "    </tr>\n",
       "    <tr>\n",
       "      <th>4319471</th>\n",
       "      <td>4319473</td>\n",
       "      <td>311</td>\n",
       "    </tr>\n",
       "    <tr>\n",
       "      <th>4332542</th>\n",
       "      <td>4332544</td>\n",
       "      <td>303</td>\n",
       "    </tr>\n",
       "    <tr>\n",
       "      <th>4335238</th>\n",
       "      <td>4335240</td>\n",
       "      <td>312</td>\n",
       "    </tr>\n",
       "    <tr>\n",
       "      <th>4362429</th>\n",
       "      <td>4362431</td>\n",
       "      <td>440</td>\n",
       "    </tr>\n",
       "    <tr>\n",
       "      <th>4367069</th>\n",
       "      <td>4367071</td>\n",
       "      <td>346</td>\n",
       "    </tr>\n",
       "    <tr>\n",
       "      <th>4367311</th>\n",
       "      <td>4367313</td>\n",
       "      <td>309</td>\n",
       "    </tr>\n",
       "  </tbody>\n",
       "</table>\n",
       "</div>"
      ],
      "text/plain": [
       "           block    lag\n",
       "116520    116522  13013\n",
       "4301231  4301233    315\n",
       "4319471  4319473    311\n",
       "4332542  4332544    303\n",
       "4335238  4335240    312\n",
       "4362429  4362431    440\n",
       "4367069  4367071    346\n",
       "4367311  4367313    309"
      ]
     },
     "execution_count": 30,
     "metadata": {},
     "output_type": "execute_result"
    }
   ],
   "source": [
    "ethereum[(ethereum['lag']>300)  & (ethereum['block']<15537393)]"
   ]
  },
  {
   "cell_type": "code",
   "execution_count": 23,
   "id": "4628e7fc-d7fa-456a-b1b6-bd3b45c1aa32",
   "metadata": {
    "tags": []
   },
   "outputs": [
    {
     "data": {
      "text/plain": [
       "392776"
      ]
     },
     "execution_count": 23,
     "metadata": {},
     "output_type": "execute_result"
    }
   ],
   "source": [
    "ethereum[(ethereum['lag']>140)  & (ethereum['block']<15537393)]['lag'].sum()"
   ]
  },
  {
   "cell_type": "code",
   "execution_count": 24,
   "id": "ad713a53-8094-4ce5-89f8-0e2470c4a647",
   "metadata": {
    "tags": []
   },
   "outputs": [
    {
     "data": {
      "text/plain": [
       "224954168"
      ]
     },
     "execution_count": 24,
     "metadata": {},
     "output_type": "execute_result"
    }
   ],
   "source": [
    "ethereum[(ethereum['block']<15537393)]['lag'].sum()"
   ]
  },
  {
   "cell_type": "code",
   "execution_count": 63,
   "id": "7042e839-275c-4562-a8bd-6c2aa10af81a",
   "metadata": {
    "tags": []
   },
   "outputs": [
    {
     "data": {
      "text/plain": [
       "0.9982539732271153"
      ]
     },
     "execution_count": 63,
     "metadata": {},
     "output_type": "execute_result"
    }
   ],
   "source": [
    "1 - 392776/224954168"
   ]
  },
  {
   "cell_type": "code",
   "execution_count": 14,
   "id": "098bd83f-3963-4541-9c88-df3b08d9a7dd",
   "metadata": {
    "tags": []
   },
   "outputs": [
    {
     "data": {
      "text/plain": [
       "0"
      ]
     },
     "execution_count": 14,
     "metadata": {},
     "output_type": "execute_result"
    }
   ],
   "source": [
    "ethereum[(ethereum['lag']>140)  & (ethereum['block']>=15537393)]['lag'].sum()"
   ]
  },
  {
   "cell_type": "code",
   "execution_count": 66,
   "id": "b78e0621-9696-4371-bf3b-9c24f6b999c7",
   "metadata": {
    "tags": []
   },
   "outputs": [
    {
     "data": {
      "text/plain": [
       "<Axes: title={'center': 'Historgram of block time for Ethereum network after POS fork'}, ylabel='Frequency'>"
      ]
     },
     "execution_count": 66,
     "metadata": {},
     "output_type": "execute_result"
    },
    {
     "data": {
      "image/png": "[encoded data removed]",
      "text/plain": [
       "<Figure size 1500x700 with 1 Axes>"
      ]
     },
     "metadata": {},
     "output_type": "display_data"
    }
   ],
   "source": [
    "ethereum[ethereum['block']>=15537393]['lag'].plot.hist(bins=100, figsize=(15,7), logy=True, \n",
    "                                                                                  title = 'Historgram of block time for Ethereum network after POS fork')"
   ]
  },
  {
   "cell_type": "code",
   "execution_count": 55,
   "id": "e9ea9d82-6d25-4c47-8137-f76d6bc03e52",
   "metadata": {
    "tags": []
   },
   "outputs": [],
   "source": [
    "bsc = pd.read_csv('data/bsc_block_time.csv.gz', header = None, names = ['block','lag'])"
   ]
  },
  {
   "cell_type": "code",
   "execution_count": 56,
   "id": "9e4d3930-c43b-45aa-b5df-12c87aa90deb",
   "metadata": {
    "tags": []
   },
   "outputs": [
    {
     "data": {
      "text/plain": [
       "min           3.000000\n",
       "max       26276.000000\n",
       "mean          3.027853\n",
       "median        3.000000\n",
       "std           4.953381\n",
       "Name: lag, dtype: float64"
      ]
     },
     "execution_count": 56,
     "metadata": {},
     "output_type": "execute_result"
    }
   ],
   "source": [
    "bsc['lag'].agg(['min','max','mean','median','std'])"
   ]
  },
  {
   "cell_type": "code",
   "execution_count": 67,
   "id": "3dbcace7-93c5-4fd5-8767-b7756561c3f4",
   "metadata": {
    "tags": []
   },
   "outputs": [
    {
     "data": {
      "text/plain": [
       "<Axes: title={'center': 'Historgram of block time for BSC network'}, ylabel='Frequency'>"
      ]
     },
     "execution_count": 67,
     "metadata": {},
     "output_type": "execute_result"
    },
    {
     "data": {
      "image/png": "[encoded data removed]",
      "text/plain": [
       "<Figure size 1500x700 with 1 Axes>"
      ]
     },
     "metadata": {},
     "output_type": "display_data"
    }
   ],
   "source": [
    "bsc[(bsc['lag'] < 300)]['lag'].plot.hist(bins=100, figsize=(15,7), logy=True, \n",
    "                                                                                  title = 'Historgram of block time for BSC network')"
   ]
  },
  {
   "cell_type": "code",
   "execution_count": 59,
   "id": "ec0d9e3b-1edb-421f-a48c-abcd94cc3a63",
   "metadata": {
    "tags": []
   },
   "outputs": [
    {
     "data": {
      "text/plain": [
       "27326"
      ]
     },
     "execution_count": 59,
     "metadata": {},
     "output_type": "execute_result"
    }
   ],
   "source": [
    "bsc[bsc['lag']>30]['lag'].sum()"
   ]
  },
  {
   "cell_type": "code",
   "execution_count": 68,
   "id": "b7d0aa14-2e54-4a44-8eff-a3eec4332d5a",
   "metadata": {
    "tags": []
   },
   "outputs": [
    {
     "data": {
      "text/plain": [
       "85534068"
      ]
     },
     "execution_count": 68,
     "metadata": {},
     "output_type": "execute_result"
    }
   ],
   "source": [
    "bsc['lag'].sum()"
   ]
  },
  {
   "cell_type": "code",
   "execution_count": 69,
   "id": "d44af55e-14d9-403c-8f18-911d1be2e39f",
   "metadata": {
    "tags": []
   },
   "outputs": [
    {
     "data": {
      "text/plain": [
       "0.9996805249576111"
      ]
     },
     "execution_count": 69,
     "metadata": {},
     "output_type": "execute_result"
    }
   ],
   "source": [
    "1 - 27326/85534068"
   ]
  },
  {
   "cell_type": "code",
   "execution_count": 32,
   "id": "67ba492a-6180-41ad-b990-26a162e00e75",
   "metadata": {
    "tags": []
   },
   "outputs": [],
   "source": [
    "bitcoin = pd.read_csv('data/btc_block_time.csv.gz', header = None, names = ['block','lag'])"
   ]
  },
  {
   "cell_type": "code",
   "execution_count": 72,
   "id": "6eb42b0c-5bff-4c4b-af06-bf0583c2af43",
   "metadata": {
    "tags": []
   },
   "outputs": [
    {
     "data": {
      "text/plain": [
       "min        -7125.000000\n",
       "max       463160.000000\n",
       "mean         573.713228\n",
       "median       400.000000\n",
       "std          836.013306\n",
       "Name: lag, dtype: float64"
      ]
     },
     "execution_count": 72,
     "metadata": {},
     "output_type": "execute_result"
    }
   ],
   "source": [
    "bitcoin['lag'].agg(['min','max','mean','median','std'])"
   ]
  },
  {
   "cell_type": "code",
   "execution_count": 73,
   "id": "a9571f25-3cea-4890-9296-c34665cb1337",
   "metadata": {
    "tags": []
   },
   "outputs": [
    {
     "data": {
      "text/html": [
       "<div>\n",
       "<style scoped>\n",
       "    .dataframe tbody tr th:only-of-type {\n",
       "        vertical-align: middle;\n",
       "    }\n",
       "\n",
       "    .dataframe tbody tr th {\n",
       "        vertical-align: top;\n",
       "    }\n",
       "\n",
       "    .dataframe thead th {\n",
       "        text-align: right;\n",
       "    }\n",
       "</style>\n",
       "<table border=\"1\" class=\"dataframe\">\n",
       "  <thead>\n",
       "    <tr style=\"text-align: right;\">\n",
       "      <th></th>\n",
       "      <th>block</th>\n",
       "      <th>lag</th>\n",
       "    </tr>\n",
       "  </thead>\n",
       "  <tbody>\n",
       "    <tr>\n",
       "      <th>2297</th>\n",
       "      <td>2298</td>\n",
       "      <td>-46</td>\n",
       "    </tr>\n",
       "    <tr>\n",
       "      <th>2512</th>\n",
       "      <td>2513</td>\n",
       "      <td>-9</td>\n",
       "    </tr>\n",
       "    <tr>\n",
       "      <th>4093</th>\n",
       "      <td>4094</td>\n",
       "      <td>-2</td>\n",
       "    </tr>\n",
       "    <tr>\n",
       "      <th>6315</th>\n",
       "      <td>6316</td>\n",
       "      <td>-28</td>\n",
       "    </tr>\n",
       "    <tr>\n",
       "      <th>6368</th>\n",
       "      <td>6369</td>\n",
       "      <td>-184</td>\n",
       "    </tr>\n",
       "    <tr>\n",
       "      <th>...</th>\n",
       "      <td>...</td>\n",
       "      <td>...</td>\n",
       "    </tr>\n",
       "    <tr>\n",
       "      <th>786861</th>\n",
       "      <td>786862</td>\n",
       "      <td>-202</td>\n",
       "    </tr>\n",
       "    <tr>\n",
       "      <th>787144</th>\n",
       "      <td>787145</td>\n",
       "      <td>-37</td>\n",
       "    </tr>\n",
       "    <tr>\n",
       "      <th>787809</th>\n",
       "      <td>787810</td>\n",
       "      <td>-1</td>\n",
       "    </tr>\n",
       "    <tr>\n",
       "      <th>787827</th>\n",
       "      <td>787828</td>\n",
       "      <td>-39</td>\n",
       "    </tr>\n",
       "    <tr>\n",
       "      <th>787926</th>\n",
       "      <td>787927</td>\n",
       "      <td>-166</td>\n",
       "    </tr>\n",
       "  </tbody>\n",
       "</table>\n",
       "<p>14524 rows × 2 columns</p>\n",
       "</div>"
      ],
      "text/plain": [
       "         block  lag\n",
       "2297      2298  -46\n",
       "2512      2513   -9\n",
       "4093      4094   -2\n",
       "6315      6316  -28\n",
       "6368      6369 -184\n",
       "...        ...  ...\n",
       "786861  786862 -202\n",
       "787144  787145  -37\n",
       "787809  787810   -1\n",
       "787827  787828  -39\n",
       "787926  787927 -166\n",
       "\n",
       "[14524 rows x 2 columns]"
      ]
     },
     "execution_count": 73,
     "metadata": {},
     "output_type": "execute_result"
    }
   ],
   "source": [
    "bitcoin[bitcoin['lag']<0]"
   ]
  },
  {
   "cell_type": "code",
   "execution_count": 77,
   "id": "2184bb79-657a-4a0d-b978-e8fdd1d05ba7",
   "metadata": {
    "tags": []
   },
   "outputs": [
    {
     "data": {
      "text/plain": [
       "<Axes: title={'center': 'Historgram of block time for Bitcoin network'}, ylabel='Frequency'>"
      ]
     },
     "execution_count": 77,
     "metadata": {},
     "output_type": "execute_result"
    },
    {
     "data": {
      "image/png": "[encoded data removed]",
      "text/plain": [
       "<Figure size 1500x700 with 1 Axes>"
      ]
     },
     "metadata": {},
     "output_type": "display_data"
    }
   ],
   "source": [
    "bitcoin[bitcoin['lag']<20000]['lag'].plot.hist(bins=100, figsize=(15,7), logy=True, \n",
    "                                                                                  title = 'Historgram of block time for Bitcoin network')"
   ]
  },
  {
   "cell_type": "code",
   "execution_count": 78,
   "id": "e2e877f9-181c-4a56-8137-708b2e6bcb4a",
   "metadata": {
    "tags": []
   },
   "outputs": [
    {
     "data": {
      "text/plain": [
       "3685725"
      ]
     },
     "execution_count": 78,
     "metadata": {},
     "output_type": "execute_result"
    }
   ],
   "source": [
    "bitcoin[(bitcoin['lag']>5700)]['lag'].sum()"
   ]
  },
  {
   "cell_type": "code",
   "execution_count": 79,
   "id": "808f2878-de1d-49a6-a992-08fc68fbdf1d",
   "metadata": {
    "tags": []
   },
   "outputs": [
    {
     "data": {
      "text/plain": [
       "456501422"
      ]
     },
     "execution_count": 79,
     "metadata": {},
     "output_type": "execute_result"
    }
   ],
   "source": [
    "bitcoin[(bitcoin['lag']>0)]['lag'].sum()"
   ]
  },
  {
   "cell_type": "code",
   "execution_count": 80,
   "id": "4c622cc6-5065-47bf-aad5-251fef1cf543",
   "metadata": {
    "tags": []
   },
   "outputs": [
    {
     "data": {
      "text/plain": [
       "0.9919261478226019"
      ]
     },
     "execution_count": 80,
     "metadata": {},
     "output_type": "execute_result"
    }
   ],
   "source": [
    "1 - 3685725/456501422"
   ]
  },
  {
   "cell_type": "code",
   "execution_count": 36,
   "id": "c04c2dd0-5a63-4cb0-b6dd-e952e9fd4f11",
   "metadata": {
    "tags": []
   },
   "outputs": [
    {
     "data": {
      "text/html": [
       "<div>\n",
       "<style scoped>\n",
       "    .dataframe tbody tr th:only-of-type {\n",
       "        vertical-align: middle;\n",
       "    }\n",
       "\n",
       "    .dataframe tbody tr th {\n",
       "        vertical-align: top;\n",
       "    }\n",
       "\n",
       "    .dataframe thead th {\n",
       "        text-align: right;\n",
       "    }\n",
       "</style>\n",
       "<table border=\"1\" class=\"dataframe\">\n",
       "  <thead>\n",
       "    <tr style=\"text-align: right;\">\n",
       "      <th></th>\n",
       "      <th>block</th>\n",
       "      <th>lag</th>\n",
       "    </tr>\n",
       "  </thead>\n",
       "  <tbody>\n",
       "    <tr>\n",
       "      <th>14</th>\n",
       "      <td>15</td>\n",
       "      <td>87157</td>\n",
       "    </tr>\n",
       "    <tr>\n",
       "      <th>15323</th>\n",
       "      <td>15324</td>\n",
       "      <td>90532</td>\n",
       "    </tr>\n",
       "    <tr>\n",
       "      <th>16563</th>\n",
       "      <td>16564</td>\n",
       "      <td>90390</td>\n",
       "    </tr>\n",
       "    <tr>\n",
       "      <th>16591</th>\n",
       "      <td>16592</td>\n",
       "      <td>73782</td>\n",
       "    </tr>\n",
       "    <tr>\n",
       "      <th>19721</th>\n",
       "      <td>19722</td>\n",
       "      <td>37536</td>\n",
       "    </tr>\n",
       "    <tr>\n",
       "      <th>19723</th>\n",
       "      <td>19724</td>\n",
       "      <td>47127</td>\n",
       "    </tr>\n",
       "    <tr>\n",
       "      <th>20188</th>\n",
       "      <td>20189</td>\n",
       "      <td>60203</td>\n",
       "    </tr>\n",
       "    <tr>\n",
       "      <th>21437</th>\n",
       "      <td>21438</td>\n",
       "      <td>38219</td>\n",
       "    </tr>\n",
       "  </tbody>\n",
       "</table>\n",
       "</div>"
      ],
      "text/plain": [
       "       block    lag\n",
       "14        15  87157\n",
       "15323  15324  90532\n",
       "16563  16564  90390\n",
       "16591  16592  73782\n",
       "19721  19722  37536\n",
       "19723  19724  47127\n",
       "20188  20189  60203\n",
       "21437  21438  38219"
      ]
     },
     "execution_count": 36,
     "metadata": {},
     "output_type": "execute_result"
    }
   ],
   "source": [
    "bitcoin[(bitcoin['lag']>3600*10) & ((bitcoin['block']>1))]"
   ]
  },
  {
   "cell_type": "code",
   "execution_count": 4,
   "id": "9b9c63f3-0138-4186-8182-f034fc51a623",
   "metadata": {
    "tags": []
   },
   "outputs": [],
   "source": [
    "solana = pd.read_csv('data/solana_block_time.csv.gz', header = None, names = ['block','lag'], sep='\\t')"
   ]
  },
  {
   "cell_type": "code",
   "execution_count": 5,
   "id": "8554026a-d409-4c69-bfd6-c966bfcfc5d0",
   "metadata": {
    "tags": []
   },
   "outputs": [
    {
     "data": {
      "text/plain": [
       "min            0.000000\n",
       "max       122245.500000\n",
       "mean           0.563441\n",
       "median         0.500000\n",
       "std           13.100428\n",
       "Name: lag, dtype: float64"
      ]
     },
     "execution_count": 5,
     "metadata": {},
     "output_type": "execute_result"
    }
   ],
   "source": [
    "solana['lag'].agg(['min','max','mean','median','std'])"
   ]
  },
  {
   "cell_type": "code",
   "execution_count": 6,
   "id": "2ba3c1c4-a6d2-4ce5-ba0b-b61c662f1f4d",
   "metadata": {
    "tags": []
   },
   "outputs": [
    {
     "data": {
      "text/plain": [
       "<Axes: title={'center': 'Historgram of block time for Solana network'}, ylabel='Frequency'>"
      ]
     },
     "execution_count": 6,
     "metadata": {},
     "output_type": "execute_result"
    },
    {
     "data": {
      "image/png": "[encoded data removed]",
      "text/plain": [
       "<Figure size 1500x700 with 1 Axes>"
      ]
     },
     "metadata": {},
     "output_type": "display_data"
    }
   ],
   "source": [
    "solana[solana['lag']<1000]['lag'].plot.hist(bins=100, figsize=(15,7), logy=True, \n",
    "                                                                                  title = 'Historgram of block time for Solana network')"
   ]
  },
  {
   "cell_type": "code",
   "execution_count": 7,
   "id": "61ed851e-05c4-4f1f-9767-47c96ea6a306",
   "metadata": {
    "tags": []
   },
   "outputs": [
    {
     "data": {
      "text/plain": [
       "2322308.523145199"
      ]
     },
     "execution_count": 7,
     "metadata": {},
     "output_type": "execute_result"
    }
   ],
   "source": [
    "solana[(solana['lag']>5)]['lag'].sum()"
   ]
  },
  {
   "cell_type": "code",
   "execution_count": 8,
   "id": "fad5a752-7a15-42db-ba3a-c487595d2efc",
   "metadata": {
    "tags": []
   },
   "outputs": [
    {
     "data": {
      "text/plain": [
       "99643515.0"
      ]
     },
     "execution_count": 8,
     "metadata": {},
     "output_type": "execute_result"
    }
   ],
   "source": [
    "solana['lag'].sum()"
   ]
  },
  {
   "cell_type": "code",
   "execution_count": 9,
   "id": "a2611608-55ba-490f-a702-0ae8d0fe336b",
   "metadata": {
    "tags": []
   },
   "outputs": [
    {
     "data": {
      "text/plain": [
       "0.9766938370249183"
      ]
     },
     "execution_count": 9,
     "metadata": {},
     "output_type": "execute_result"
    }
   ],
   "source": [
    "1 - 2322308/99643515"
   ]
  },
  {
   "cell_type": "code",
   "execution_count": 39,
   "id": "e2abc256-2e2d-45d6-b2a4-678f8cddb157",
   "metadata": {
    "tags": []
   },
   "outputs": [
    {
     "data": {
      "text/html": [
       "<div>\n",
       "<style scoped>\n",
       "    .dataframe tbody tr th:only-of-type {\n",
       "        vertical-align: middle;\n",
       "    }\n",
       "\n",
       "    .dataframe tbody tr th {\n",
       "        vertical-align: top;\n",
       "    }\n",
       "\n",
       "    .dataframe thead th {\n",
       "        text-align: right;\n",
       "    }\n",
       "</style>\n",
       "<table border=\"1\" class=\"dataframe\">\n",
       "  <thead>\n",
       "    <tr style=\"text-align: right;\">\n",
       "      <th></th>\n",
       "      <th>block</th>\n",
       "      <th>lag</th>\n",
       "    </tr>\n",
       "  </thead>\n",
       "  <tbody>\n",
       "    <tr>\n",
       "      <th>1630511</th>\n",
       "      <td>1690557</td>\n",
       "      <td>24831.334</td>\n",
       "    </tr>\n",
       "    <tr>\n",
       "      <th>12799503</th>\n",
       "      <td>13391978</td>\n",
       "      <td>25279.000</td>\n",
       "    </tr>\n",
       "    <tr>\n",
       "      <th>15933105</th>\n",
       "      <td>16903262</td>\n",
       "      <td>30648.500</td>\n",
       "    </tr>\n",
       "    <tr>\n",
       "      <th>50083947</th>\n",
       "      <td>53180905</td>\n",
       "      <td>16415.334</td>\n",
       "    </tr>\n",
       "    <tr>\n",
       "      <th>50083961</th>\n",
       "      <td>53180945</td>\n",
       "      <td>845.000</td>\n",
       "    </tr>\n",
       "    <tr>\n",
       "      <th>50083962</th>\n",
       "      <td>53180946</td>\n",
       "      <td>3345.000</td>\n",
       "    </tr>\n",
       "    <tr>\n",
       "      <th>56102921</th>\n",
       "      <td>60912004</td>\n",
       "      <td>122245.500</td>\n",
       "    </tr>\n",
       "    <tr>\n",
       "      <th>60902472</th>\n",
       "      <td>66528004</td>\n",
       "      <td>71496.500</td>\n",
       "    </tr>\n",
       "    <tr>\n",
       "      <th>86158075</th>\n",
       "      <td>96542813</td>\n",
       "      <td>38793.000</td>\n",
       "    </tr>\n",
       "    <tr>\n",
       "      <th>119521261</th>\n",
       "      <td>131973978</td>\n",
       "      <td>8665.500</td>\n",
       "    </tr>\n",
       "    <tr>\n",
       "      <th>123368644</th>\n",
       "      <td>136512012</td>\n",
       "      <td>16029.000</td>\n",
       "    </tr>\n",
       "    <tr>\n",
       "      <th>138101818</th>\n",
       "      <td>153139236</td>\n",
       "      <td>33098.000</td>\n",
       "    </tr>\n",
       "    <tr>\n",
       "      <th>162635909</th>\n",
       "      <td>179526406</td>\n",
       "      <td>69544.500</td>\n",
       "    </tr>\n",
       "  </tbody>\n",
       "</table>\n",
       "</div>"
      ],
      "text/plain": [
       "               block         lag\n",
       "1630511      1690557   24831.334\n",
       "12799503    13391978   25279.000\n",
       "15933105    16903262   30648.500\n",
       "50083947    53180905   16415.334\n",
       "50083961    53180945     845.000\n",
       "50083962    53180946    3345.000\n",
       "56102921    60912004  122245.500\n",
       "60902472    66528004   71496.500\n",
       "86158075    96542813   38793.000\n",
       "119521261  131973978    8665.500\n",
       "123368644  136512012   16029.000\n",
       "138101818  153139236   33098.000\n",
       "162635909  179526406   69544.500"
      ]
     },
     "execution_count": 39,
     "metadata": {},
     "output_type": "execute_result"
    }
   ],
   "source": [
    "solana[(solana['lag']>600)]"
   ]
  },
  {
   "cell_type": "code",
   "execution_count": null,
   "id": "8061a696-8649-4a1c-9ac0-5ce626997cba",
   "metadata": {},
   "outputs": [],
   "source": []
  }
 ],
 "metadata": {
  "kernelspec": {
   "display_name": "Python 3 (ipykernel)",
   "language": "python",
   "name": "python3"
  },
  "language_info": {
   "codemirror_mode": {
    "name": "ipython",
    "version": 3
   },
   "file_extension": ".py",
   "mimetype": "text/x-python",
   "name": "python",
   "nbconvert_exporter": "python",
   "pygments_lexer": "ipython3",
   "version": "3.8.5"
  }
 },
 "nbformat": 4,
 "nbformat_minor": 5
}
